{
 "cells": [
  {
   "cell_type": "code",
   "execution_count": null,
   "id": "2c80ce0f-3ed1-4e1e-b23a-f51cd1619f4e",
   "metadata": {},
   "outputs": [
    {
     "name": "stdout",
     "output_type": "stream",
     "text": [
      "stack operation:\n",
      "\n",
      "1. Push\n",
      "2. Pop\n",
      "3. Peek\n",
      "4. Display Stack\n",
      "5. Exit\n"
     ]
    },
    {
     "name": "stdin",
     "output_type": "stream",
     "text": [
      "Enter your choice:  1\n",
      "Enter the item to push onto the stack:  45\n"
     ]
    },
    {
     "name": "stdout",
     "output_type": "stream",
     "text": [
      "\n",
      "1. Push\n",
      "2. Pop\n",
      "3. Peek\n",
      "4. Display Stack\n",
      "5. Exit\n"
     ]
    },
    {
     "name": "stdin",
     "output_type": "stream",
     "text": [
      "Enter your choice:  4\n"
     ]
    },
    {
     "name": "stdout",
     "output_type": "stream",
     "text": [
      "45 <---- Top\n",
      "\n",
      "1. Push\n",
      "2. Pop\n",
      "3. Peek\n",
      "4. Display Stack\n",
      "5. Exit\n"
     ]
    },
    {
     "name": "stdin",
     "output_type": "stream",
     "text": [
      "Enter your choice:  4\n"
     ]
    },
    {
     "name": "stdout",
     "output_type": "stream",
     "text": [
      "45 <---- Top\n",
      "\n",
      "1. Push\n",
      "2. Pop\n",
      "3. Peek\n",
      "4. Display Stack\n",
      "5. Exit\n"
     ]
    },
    {
     "name": "stdin",
     "output_type": "stream",
     "text": [
      "Enter your choice:  1\n",
      "Enter the item to push onto the stack:  5\n"
     ]
    },
    {
     "name": "stdout",
     "output_type": "stream",
     "text": [
      "\n",
      "1. Push\n",
      "2. Pop\n",
      "3. Peek\n",
      "4. Display Stack\n",
      "5. Exit\n"
     ]
    },
    {
     "name": "stdin",
     "output_type": "stream",
     "text": [
      "Enter your choice:  1\n",
      "Enter the item to push onto the stack:  3\n"
     ]
    },
    {
     "name": "stdout",
     "output_type": "stream",
     "text": [
      "\n",
      "1. Push\n",
      "2. Pop\n",
      "3. Peek\n",
      "4. Display Stack\n",
      "5. Exit\n"
     ]
    },
    {
     "name": "stdin",
     "output_type": "stream",
     "text": [
      "Enter your choice:  1\n",
      "Enter the item to push onto the stack:  87\n"
     ]
    },
    {
     "name": "stdout",
     "output_type": "stream",
     "text": [
      "\n",
      "1. Push\n",
      "2. Pop\n",
      "3. Peek\n",
      "4. Display Stack\n",
      "5. Exit\n"
     ]
    },
    {
     "name": "stdin",
     "output_type": "stream",
     "text": [
      "Enter your choice:  4\n"
     ]
    },
    {
     "name": "stdout",
     "output_type": "stream",
     "text": [
      "87 <---- Top\n",
      "3\n",
      "5\n",
      "45\n",
      "\n",
      "1. Push\n",
      "2. Pop\n",
      "3. Peek\n",
      "4. Display Stack\n",
      "5. Exit\n"
     ]
    },
    {
     "name": "stdin",
     "output_type": "stream",
     "text": [
      "Enter your choice:  4\n"
     ]
    },
    {
     "name": "stdout",
     "output_type": "stream",
     "text": [
      "87 <---- Top\n",
      "3\n",
      "5\n",
      "45\n",
      "\n",
      "1. Push\n",
      "2. Pop\n",
      "3. Peek\n",
      "4. Display Stack\n",
      "5. Exit\n"
     ]
    }
   ],
   "source": [
    "stack = []\n",
    "top = None  # Initialize the global top variable\n",
    "\n",
    "def isEmpty(stk):\n",
    "    return stk == []  # Return True if stack is empty, else False\n",
    "\n",
    "def push(stk, item):\n",
    "    global top  # Declare top as global so it can be updated\n",
    "    stk.append(item)  # Append the item to the stack\n",
    "    top = len(stk) - 1  # Update top to the new last index\n",
    "    \n",
    "def pop(stk):\n",
    "    global top  # Declare top as global so it can be updated\n",
    "    if isEmpty(stk):\n",
    "        return \"Underflow\"\n",
    "    else:\n",
    "        item = stk.pop()  # Remove the top element\n",
    "        if len(stk) == 0:  # Check if the stack is empty after pop\n",
    "            top = None\n",
    "        else:\n",
    "            top = len(stk) - 1  # Update top to the new last index\n",
    "        return item\n",
    "\n",
    "def peek(stk):\n",
    "    if isEmpty(stk):\n",
    "        return \"Underflow\"\n",
    "    else:\n",
    "        return stk[top]  # Use the top variable to return the top element\n",
    "\n",
    "def display(stk):\n",
    "    if isEmpty(stk):\n",
    "        print(\"Stack is empty\")\n",
    "    else:\n",
    "        print(stk[top], '<---- Top')  # Show the top element\n",
    "        for i in range(top-1, -1, -1):  # Print from top to bottom\n",
    "            print(stk[i])\n",
    "\n",
    "# Example usage of stack operations\n",
    "print(\"stack operation:\")\n",
    "while True:\n",
    "    print(\"\\n1. Push\")\n",
    "    print(\"2. Pop\")\n",
    "    print(\"3. Peek\")\n",
    "    print(\"4. Display Stack\")\n",
    "    print(\"5. Exit\")\n",
    "    \n",
    "    choice = int(input(\"Enter your choice: \"))\n",
    "    \n",
    "    if choice == 1:\n",
    "        item = int(input(\"Enter the item to push onto the stack: \"))  # Get input for item\n",
    "        push(stack, item)\n",
    "    elif choice == 2: \n",
    "        print(\"Popped item:\", pop(stack))\n",
    "    elif choice == 3:\n",
    "        print(\"Top item is:\", peek(stack))\n",
    "        \n",
    "    elif choice == 4:\n",
    "        display(stack)\n",
    "    elif choice == 5:\n",
    "        break\n",
    "    else:\n",
    "        print(\"Invalid choice, please try again.\")\n",
    "\n"
   ]
  },
  {
   "cell_type": "code",
   "execution_count": 100,
   "id": "9737651b-9c86-436b-8350-5508be5a48b1",
   "metadata": {},
   "outputs": [],
   "source": []
  },
  {
   "cell_type": "code",
   "execution_count": 102,
   "id": "78cf3b0a-83c8-4e37-8047-79dac2b93b59",
   "metadata": {},
   "outputs": [],
   "source": []
  },
  {
   "cell_type": "code",
   "execution_count": 104,
   "id": "43b0077b-95ac-49db-ab7a-65f0ffb73715",
   "metadata": {},
   "outputs": [],
   "source": []
  },
  {
   "cell_type": "code",
   "execution_count": 108,
   "id": "e6e1e1fa-61f9-44e3-9c3e-23bb8580b8ab",
   "metadata": {},
   "outputs": [],
   "source": []
  },
  {
   "cell_type": "code",
   "execution_count": null,
   "id": "240f743d-0ebb-485f-97bc-bfca99d14bcc",
   "metadata": {},
   "outputs": [],
   "source": []
  },
  {
   "cell_type": "code",
   "execution_count": null,
   "id": "68883f94-2583-46f5-ad42-4e78d9497dfe",
   "metadata": {},
   "outputs": [],
   "source": []
  }
 ],
 "metadata": {
  "kernelspec": {
   "display_name": "Python 3 (ipykernel)",
   "language": "python",
   "name": "python3"
  },
  "language_info": {
   "codemirror_mode": {
    "name": "ipython",
    "version": 3
   },
   "file_extension": ".py",
   "mimetype": "text/x-python",
   "name": "python",
   "nbconvert_exporter": "python",
   "pygments_lexer": "ipython3",
   "version": "3.12.4"
  }
 },
 "nbformat": 4,
 "nbformat_minor": 5
}
